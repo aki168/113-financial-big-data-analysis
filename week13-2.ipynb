{
 "cells": [
  {
   "cell_type": "code",
   "execution_count": 855,
   "metadata": {},
   "outputs": [
    {
     "name": "stderr",
     "output_type": "stream",
     "text": [
      "[*********************100%***********************]  30 of 30 completed\n"
     ]
    }
   ],
   "source": [
    "import yfinance as yf\n",
    "import pandas as pd\n",
    "\n",
    "# 股票列表: 半導體上市公司 （30）\n",
    "tickers = ['2302.TW', '2303.TW', '2329.TW', '2330.TW', '2337.TW', '2338.TW', '2340.TW', \n",
    "          '2342.TW', '2344.TW', '2351.TW', '2363.TW', '2369.TW', '2379.TW', '2388.TW', \n",
    "          '2401.TW', '2408.TW', '2434.TW', '2436.TW', '2441.TW', '2449.TW', '2451.TW', \n",
    "          '2454.TW', '2458.TW', '2481.TW', '3006.TW', '3014.TW', '3016.TW', '3034.TW', \n",
    "          '3035.TW', '3041.TW']\n",
    "\n",
    "# 下載數據\n",
    "data = yf.download(tickers, start=\"2024-01-01\", end=\"2024-12-01\")\n",
    "\n",
    "# 計算日收益率\n",
    "returns = data['Adj Close'].pct_change()\n",
    "\n",
    "# 平均日收益率和標準差\n",
    "mean_returns = returns.mean()\n",
    "std_dev_returns = returns.std()\n",
    "\n",
    "# 計算相關係數\n",
    "correlation = returns.corr()\n"
   ]
  },
  {
   "cell_type": "code",
   "execution_count": 856,
   "metadata": {},
   "outputs": [],
   "source": [
    "import numpy as np\n",
    "\n",
    "def initialize_population(size, num_assets):\n",
    "    # 隨機生成初始族群\n",
    "    population = np.random.randint(2, size=(size, num_assets))\n",
    "    return population\n"
   ]
  },
  {
   "cell_type": "code",
   "execution_count": 857,
   "metadata": {},
   "outputs": [],
   "source": [
    "def fitness(population, mean_returns, std_dev_returns, risk_free_rate=0.01):\n",
    "    portfolio_returns = np.dot(population, mean_returns)\n",
    "    portfolio_risks = np.sqrt(np.dot((population**2), (std_dev_returns**2)))\n",
    "    sharpe_ratios = (portfolio_returns - risk_free_rate) / portfolio_risks\n",
    "    exp_fitness_scores = np.exp(sharpe_ratios - np.max(sharpe_ratios))\n",
    "    # probabilities = exp_fitness_scores / np.sum(exp_fitness_scores)\n",
    "    return exp_fitness_scores\n"
   ]
  },
  {
   "cell_type": "code",
   "execution_count": 858,
   "metadata": {},
   "outputs": [],
   "source": [
    "# def selection(population, fitness_scores):\n",
    "#     # 輪盤賭選擇\n",
    "#     probabilities = fitness_scores / np.sum(fitness_scores)\n",
    "#     selected_indices = np.random.choice(np.arange(len(population)), size=len(population), p=probabilities)\n",
    "#     return population[selected_indices]\n",
    "\n",
    "# 加入精英保留機制\n",
    "def selection(population, fitness_scores, elite_size=5):\n",
    "    # 保留最優的elite_size個個體\n",
    "    elite_indices = np.argsort(fitness_scores)[-elite_size:]\n",
    "    elites = population[elite_indices]\n",
    "\n",
    "    # 剩下的個體通過輪盤賭選擇\n",
    "    non_elite_population = np.delete(population, elite_indices, axis=0)\n",
    "    non_elite_scores = np.delete(fitness_scores, elite_indices)\n",
    "    probabilities = non_elite_scores / non_elite_scores.sum()\n",
    "    selected_indices = np.random.choice(np.arange(len(non_elite_population)), size=len(population)-elite_size, p=probabilities)\n",
    "    selected_population = non_elite_population[selected_indices]\n",
    "\n",
    "    # 將精英個體和選擇出的個體合併成新的族群\n",
    "    new_population = np.vstack((elites, selected_population))\n",
    "    return new_population\n",
    "\n",
    "\n",
    "def crossover(population, crossover_rate=0.8):\n",
    "    # 單點交叉\n",
    "    offspring = []\n",
    "    for i in range(0, len(population), 2):\n",
    "        if i+1 < len(population) and np.random.rand() < crossover_rate:\n",
    "            cross_point = np.random.randint(1, len(population[0]))\n",
    "            offspring.append(np.concatenate([population[i][:cross_point], population[i+1][cross_point:]]))\n",
    "            offspring.append(np.concatenate([population[i+1][:cross_point], population[i][cross_point:]]))\n",
    "        else:\n",
    "            offspring.extend([population[i], population[i+1]])\n",
    "    return np.array(offspring)\n",
    "\n",
    "def mutation(population, mutation_rate=0.02):\n",
    "    # 點突變\n",
    "    for individual in population:\n",
    "        if np.random.rand() < mutation_rate:\n",
    "            mutation_point = np.random.randint(len(individual))\n",
    "            individual[mutation_point] = 1 - individual[mutation_point]\n",
    "    return population\n"
   ]
  },
  {
   "cell_type": "code",
   "execution_count": 859,
   "metadata": {},
   "outputs": [],
   "source": [
    "population_size = 100 # 每一代中將有多少個個體（投資組合）存在。\n",
    "num_generations = 50 # 迭代次數，即算法將運行多少代。每一代包括選擇、交叉和突變步驟。\n",
    "population = initialize_population(population_size, len(tickers))\n",
    "elite_size = 5\n",
    "\n",
    "for _ in range(num_generations):\n",
    "    fitness_scores = fitness(population, mean_returns.values, std_dev_returns.values)\n",
    "    population = selection(population, fitness_scores, elite_size=elite_size)\n",
    "    population = crossover(population)\n",
    "    population = mutation(population)\n"
   ]
  },
  {
   "cell_type": "code",
   "execution_count": 860,
   "metadata": {},
   "outputs": [],
   "source": [
    "best_index = np.argmax(fitness(population, mean_returns.values, std_dev_returns.values))\n",
    "best_portfolio = population[best_index]\n",
    "best_return, best_risk = mean_returns.values[best_portfolio > 0], std_dev_returns.values[best_portfolio > 0]"
   ]
  },
  {
   "cell_type": "code",
   "execution_count": 861,
   "metadata": {},
   "outputs": [
    {
     "name": "stdout",
     "output_type": "stream",
     "text": [
      "最優投資組合股票: ['2302.TW', '2303.TW', '2329.TW', '2330.TW', '2342.TW', '2351.TW', '2363.TW', '2379.TW', '2388.TW', '2434.TW', '2449.TW', '2451.TW', '2454.TW', '2458.TW', '3014.TW', '3034.TW']\n",
      "預期回報率: [ 6.37768101e-04 -4.35024343e-04 -1.33935453e-03  2.67503395e-03\n",
      "  1.85978252e-04  1.62105474e-04  9.30013196e-04  5.46973306e-04\n",
      " -1.32629123e-03 -3.63352624e-04  2.45609350e-03  9.99670525e-04\n",
      "  1.71233248e-03  3.12704233e-05  1.27764354e-04  1.80462715e-04]\n",
      "風險(標準差): [0.02196679 0.01543642 0.03095189 0.02217733 0.01970294 0.03263057\n",
      " 0.0363808  0.02142308 0.03467    0.01171129 0.03086553 0.01834425\n",
      " 0.0271918  0.0204228  0.02080876 0.01854918]\n"
     ]
    }
   ],
   "source": [
    "# 最優投資組合股票: ['2330.TW', '2408.TW', '2454.TW']\n",
    "# 預期回報率: [0.0007, 0.0005, 0.0011]  # 每支股票的平均日收益率\n",
    "# 風險(標準差): [0.018, 0.021, 0.025]  # 每支股票的日收益率標準差\n",
    "\n",
    "best_tickers  = [tickers[i] for i in range(len(tickers)) if best_portfolio[i] > 0]\n",
    "print('最優投資組合股票:',best_tickers)\n",
    "print('預期回報率:', best_return)\n",
    "print('風險(標準差):', best_risk)"
   ]
  },
  {
   "cell_type": "code",
   "execution_count": 862,
   "metadata": {},
   "outputs": [
    {
     "data": {
      "text/html": [
       "<div>\n",
       "<style scoped>\n",
       "    .dataframe tbody tr th:only-of-type {\n",
       "        vertical-align: middle;\n",
       "    }\n",
       "\n",
       "    .dataframe tbody tr th {\n",
       "        vertical-align: top;\n",
       "    }\n",
       "\n",
       "    .dataframe thead th {\n",
       "        text-align: right;\n",
       "    }\n",
       "</style>\n",
       "<table border=\"1\" class=\"dataframe\">\n",
       "  <thead>\n",
       "    <tr style=\"text-align: right;\">\n",
       "      <th></th>\n",
       "      <th>最優投組</th>\n",
       "      <th>預期回報率/天</th>\n",
       "      <th>風險（標準差）</th>\n",
       "    </tr>\n",
       "  </thead>\n",
       "  <tbody>\n",
       "    <tr>\n",
       "      <th>3</th>\n",
       "      <td>2330.TW</td>\n",
       "      <td>0.002675</td>\n",
       "      <td>0.022177</td>\n",
       "    </tr>\n",
       "    <tr>\n",
       "      <th>10</th>\n",
       "      <td>2449.TW</td>\n",
       "      <td>0.002456</td>\n",
       "      <td>0.030866</td>\n",
       "    </tr>\n",
       "    <tr>\n",
       "      <th>12</th>\n",
       "      <td>2454.TW</td>\n",
       "      <td>0.001712</td>\n",
       "      <td>0.027192</td>\n",
       "    </tr>\n",
       "    <tr>\n",
       "      <th>11</th>\n",
       "      <td>2451.TW</td>\n",
       "      <td>0.001000</td>\n",
       "      <td>0.018344</td>\n",
       "    </tr>\n",
       "    <tr>\n",
       "      <th>6</th>\n",
       "      <td>2363.TW</td>\n",
       "      <td>0.000930</td>\n",
       "      <td>0.036381</td>\n",
       "    </tr>\n",
       "    <tr>\n",
       "      <th>0</th>\n",
       "      <td>2302.TW</td>\n",
       "      <td>0.000638</td>\n",
       "      <td>0.021967</td>\n",
       "    </tr>\n",
       "    <tr>\n",
       "      <th>7</th>\n",
       "      <td>2379.TW</td>\n",
       "      <td>0.000547</td>\n",
       "      <td>0.021423</td>\n",
       "    </tr>\n",
       "    <tr>\n",
       "      <th>4</th>\n",
       "      <td>2342.TW</td>\n",
       "      <td>0.000186</td>\n",
       "      <td>0.019703</td>\n",
       "    </tr>\n",
       "  </tbody>\n",
       "</table>\n",
       "</div>"
      ],
      "text/plain": [
       "       最優投組   預期回報率/天   風險（標準差）\n",
       "3   2330.TW  0.002675  0.022177\n",
       "10  2449.TW  0.002456  0.030866\n",
       "12  2454.TW  0.001712  0.027192\n",
       "11  2451.TW  0.001000  0.018344\n",
       "6   2363.TW  0.000930  0.036381\n",
       "0   2302.TW  0.000638  0.021967\n",
       "7   2379.TW  0.000547  0.021423\n",
       "4   2342.TW  0.000186  0.019703"
      ]
     },
     "execution_count": 862,
     "metadata": {},
     "output_type": "execute_result"
    }
   ],
   "source": [
    "df = pd.DataFrame({'最優投組': best_tickers, '預期回報率/天': best_return, '風險（標準差）': best_risk})\n",
    "\n",
    "# 篩選出預期回報率最高的 n 支股票 \n",
    "n = 8\n",
    "df = df.sort_values(by='預期回報率/天', ascending=False).head(n)\n",
    "df"
   ]
  }
 ],
 "metadata": {
  "kernelspec": {
   "display_name": "base",
   "language": "python",
   "name": "python3"
  },
  "language_info": {
   "codemirror_mode": {
    "name": "ipython",
    "version": 3
   },
   "file_extension": ".py",
   "mimetype": "text/x-python",
   "name": "python",
   "nbconvert_exporter": "python",
   "pygments_lexer": "ipython3",
   "version": "3.12.2"
  }
 },
 "nbformat": 4,
 "nbformat_minor": 2
}
