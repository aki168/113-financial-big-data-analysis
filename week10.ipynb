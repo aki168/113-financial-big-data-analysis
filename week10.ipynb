{
 "cells": [
  {
   "cell_type": "markdown",
   "metadata": {},
   "source": [
    "使用 Hugging Face 框架建立 BERT 模型，針對金融領域文本進行情緒分析訓練。\n",
    "可使用以下提供的資料集，或選擇其他適合的金融文本資料集。"
   ]
  },
  {
   "cell_type": "code",
   "execution_count": 82,
   "metadata": {},
   "outputs": [],
   "source": [
    "import pandas as pd\n",
    "\n",
    "def load_data(file_path):\n",
    "    with open(file_path, 'r', encoding='latin1') as file:\n",
    "        lines = file.readlines()\n",
    "        data = [line.strip().split('@') for line in lines]\n",
    "        df = pd.DataFrame(data, columns=['text', 'label'])\n",
    "    return df\n",
    "\n",
    "file_path = './data/FinancialPhraseBank/Sentences_50Agree.txt'\n",
    "df =load_data(file_path)"
   ]
  },
  {
   "cell_type": "code",
   "execution_count": 83,
   "metadata": {},
   "outputs": [
    {
     "name": "stdout",
     "output_type": "stream",
     "text": [
      "label\n",
      "1.0    1363\n",
      "0.0     604\n",
      "Name: count, dtype: int64\n",
      "label\n",
      "1.0    136\n",
      "0.0    121\n",
      "Name: count, dtype: int64\n"
     ]
    },
    {
     "name": "stderr",
     "output_type": "stream",
     "text": [
      "/var/folders/0l/dmc60s_975jff_p_2_n34cq40000gq/T/ipykernel_14876/591185176.py:9: DeprecationWarning: DataFrameGroupBy.apply operated on the grouping columns. This behavior is deprecated, and in a future version of pandas the grouping columns will be excluded from the operation. Either pass `include_groups=False` to exclude the groupings or explicitly select the grouping columns after groupby to silence this warning.\n",
      "  df = df.groupby('label').apply(lambda x: x.sample(frac=0.1 if x.name == 1 else 0.2)).reset_index(drop=True)\n"
     ]
    }
   ],
   "source": [
    "label_map = {'negative': 0, 'positive': 1}\n",
    "df['label'] = df['label'].map(label_map)\n",
    "# label = NaN drop\n",
    "df = df.dropna(subset=['label'])\n",
    "#確認 label 佔比\n",
    "print(df['label'].value_counts())\n",
    "\n",
    "# label 分佈調整, label 1 X 0.1，label 0 X 0.2\n",
    "df = df.groupby('label').apply(lambda x: x.sample(frac=0.1 if x.name == 1 else 0.2)).reset_index(drop=True)\n",
    "print(df['label'].value_counts())\n"
   ]
  },
  {
   "cell_type": "code",
   "execution_count": 84,
   "metadata": {},
   "outputs": [
    {
     "data": {
      "text/html": [
       "<div>\n",
       "<style scoped>\n",
       "    .dataframe tbody tr th:only-of-type {\n",
       "        vertical-align: middle;\n",
       "    }\n",
       "\n",
       "    .dataframe tbody tr th {\n",
       "        vertical-align: top;\n",
       "    }\n",
       "\n",
       "    .dataframe thead th {\n",
       "        text-align: right;\n",
       "    }\n",
       "</style>\n",
       "<table border=\"1\" class=\"dataframe\">\n",
       "  <thead>\n",
       "    <tr style=\"text-align: right;\">\n",
       "      <th></th>\n",
       "      <th>text</th>\n",
       "      <th>label</th>\n",
       "    </tr>\n",
       "  </thead>\n",
       "  <tbody>\n",
       "    <tr>\n",
       "      <th>75</th>\n",
       "      <td>Operating profit was EUR -0.1 mn , down from E...</td>\n",
       "      <td>0.0</td>\n",
       "    </tr>\n",
       "    <tr>\n",
       "      <th>178</th>\n",
       "      <td>Finnish Cargotec 's Kalmar , the business area...</td>\n",
       "      <td>1.0</td>\n",
       "    </tr>\n",
       "    <tr>\n",
       "      <th>38</th>\n",
       "      <td>Coca-Cola was the market leader of manufacture...</td>\n",
       "      <td>0.0</td>\n",
       "    </tr>\n",
       "    <tr>\n",
       "      <th>136</th>\n",
       "      <td>Finnish food company Raisio Oyj HEL : RAIVV sa...</td>\n",
       "      <td>1.0</td>\n",
       "    </tr>\n",
       "    <tr>\n",
       "      <th>60</th>\n",
       "      <td>55 workers in +àm+Ñl will be affected by the c...</td>\n",
       "      <td>0.0</td>\n",
       "    </tr>\n",
       "  </tbody>\n",
       "</table>\n",
       "</div>"
      ],
      "text/plain": [
       "                                                  text  label\n",
       "75   Operating profit was EUR -0.1 mn , down from E...    0.0\n",
       "178  Finnish Cargotec 's Kalmar , the business area...    1.0\n",
       "38   Coca-Cola was the market leader of manufacture...    0.0\n",
       "136  Finnish food company Raisio Oyj HEL : RAIVV sa...    1.0\n",
       "60   55 workers in +àm+Ñl will be affected by the c...    0.0"
      ]
     },
     "execution_count": 84,
     "metadata": {},
     "output_type": "execute_result"
    }
   ],
   "source": [
    "from sklearn.model_selection import train_test_split\n",
    "\n",
    "train_df, test_df = train_test_split(df, test_size=0.2, random_state=42)\n",
    "train_df.head()\n"
   ]
  },
  {
   "cell_type": "code",
   "execution_count": 85,
   "metadata": {},
   "outputs": [
    {
     "name": "stderr",
     "output_type": "stream",
     "text": [
      "Some weights of BertForSequenceClassification were not initialized from the model checkpoint at bert-base-uncased and are newly initialized: ['classifier.bias', 'classifier.weight']\n",
      "You should probably TRAIN this model on a down-stream task to be able to use it for predictions and inference.\n"
     ]
    }
   ],
   "source": [
    "# 加載 BERT 模型與分詞器\n",
    "# !pip install tf-keras\n",
    "\n",
    "from transformers import BertTokenizer\n",
    "from transformers import BertForSequenceClassification\n",
    "from torch.utils.data import DataLoader, Dataset\n",
    "import torch\n",
    "# 初始化分詞器和模型\n",
    "tokenizer = BertTokenizer.from_pretrained('bert-base-uncased')\n",
    "\n",
    "model = BertForSequenceClassification.from_pretrained('bert-base-uncased', num_labels=len(label_map))\n",
    "\n",
    "class FinancialDataset(Dataset):\n",
    "    def __init__(self, df, tokenizer, max_len=512):\n",
    "        self.df = df\n",
    "        self.tokenizer = tokenizer\n",
    "        self.max_len = max_len\n",
    "\n",
    "    def __len__(self):\n",
    "        return len(self.df)\n",
    "\n",
    "    def __getitem__(self, idx): \n",
    "        text = self.df.iloc[idx]['text']\n",
    "        label = self.df.iloc[idx]['label']\n",
    "\n",
    "        encoding = self.tokenizer.encode_plus(\n",
    "            text,\n",
    "            add_special_tokens=True,\n",
    "            max_length=self.max_len,\n",
    "            padding='max_length',\n",
    "            truncation=True,\n",
    "        ) \n",
    "\n",
    "        return {\n",
    "            'text': text,\n",
    "            'input_ids': encoding['input_ids'],\n",
    "            'attention_mask': encoding['attention_mask'],\n",
    "            'label': torch.tensor(label, dtype=torch.long)\n",
    "        }\n",
    "    \n",
    "\n",
    "train_dataset = FinancialDataset(train_df, tokenizer, max_len=512)\n",
    "test_dataset = FinancialDataset(test_df, tokenizer, max_len=512)\n",
    "\n",
    "\n"
   ]
  },
  {
   "cell_type": "code",
   "execution_count": 86,
   "metadata": {},
   "outputs": [
    {
     "name": "stderr",
     "output_type": "stream",
     "text": [
      "  1%|          | 3/387 [01:28<3:08:36, 29.47s/it]\n",
      "100%|██████████| 78/78 [28:34<00:00, 21.98s/it] "
     ]
    },
    {
     "name": "stdout",
     "output_type": "stream",
     "text": [
      "{'train_runtime': 1714.7882, 'train_samples_per_second': 0.359, 'train_steps_per_second': 0.045, 'train_loss': 0.693968259371244, 'epoch': 3.0}\n"
     ]
    },
    {
     "name": "stderr",
     "output_type": "stream",
     "text": [
      "\n"
     ]
    },
    {
     "data": {
      "text/plain": [
       "TrainOutput(global_step=78, training_loss=0.693968259371244, metrics={'train_runtime': 1714.7882, 'train_samples_per_second': 0.359, 'train_steps_per_second': 0.045, 'total_flos': 161813299046400.0, 'train_loss': 0.693968259371244, 'epoch': 3.0})"
      ]
     },
     "execution_count": 86,
     "metadata": {},
     "output_type": "execute_result"
    }
   ],
   "source": [
    "# 訓練模型\n",
    "from transformers import Trainer, TrainingArguments\n",
    "\n",
    "training_args = TrainingArguments(\n",
    "    output_dir='./results',\n",
    "    num_train_epochs=3,\n",
    "    per_device_train_batch_size=8,\n",
    "    per_device_eval_batch_size=16,\n",
    "    warmup_steps=500,\n",
    "    weight_decay=0.01,\n",
    "    eval_strategy='steps',  \n",
    "    logging_dir='./logs',\n",
    ")\n",
    "\n",
    "trainer = Trainer(\n",
    "    model=model,\n",
    "    args=training_args,\n",
    "    train_dataset=train_dataset,\n",
    "    eval_dataset=test_dataset\n",
    ")\n",
    "\n",
    "trainer.train()\n"
   ]
  },
  {
   "cell_type": "code",
   "execution_count": 87,
   "metadata": {},
   "outputs": [
    {
     "name": "stderr",
     "output_type": "stream",
     "text": [
      "100%|██████████| 4/4 [00:48<00:00, 12.11s/it]\n"
     ]
    },
    {
     "data": {
      "text/plain": [
       "('./my_finance_model/tokenizer_config.json',\n",
       " './my_finance_model/special_tokens_map.json',\n",
       " './my_finance_model/vocab.txt',\n",
       " './my_finance_model/added_tokens.json')"
      ]
     },
     "execution_count": 87,
     "metadata": {},
     "output_type": "execute_result"
    }
   ],
   "source": [
    "trainer.evaluate()\n",
    "\n",
    "# 保存模型\n",
    "model.save_pretrained('./my_finance_model')\n",
    "tokenizer.save_pretrained('./my_finance_model')"
   ]
  },
  {
   "cell_type": "code",
   "execution_count": 90,
   "metadata": {},
   "outputs": [
    {
     "name": "stdout",
     "output_type": "stream",
     "text": [
      "[{'label': 'LABEL_0', 'score': 0.5869709849357605}, {'label': 'LABEL_1', 'score': 0.5321142077445984}, {'label': 'LABEL_0', 'score': 0.5428314805030823}]\n"
     ]
    }
   ],
   "source": [
    "from transformers import pipeline\n",
    "\n",
    "classifier = pipeline('sentiment-analysis', model=model, tokenizer=tokenizer, device=0)\n",
    "\n",
    "input_texts =   [\n",
    "    \"The international electronic industry company Elcoteq has laid off tens of employees.\",\n",
    "    # 「國際電子行業公司Elcoteq裁掉了數十名員工。」\n",
    "      \"The company's revenue has seen a significant increase of 20% this quarter, reflecting strong market demand and effective management strategies .\",\n",
    "    #「該公司本季度收入顯著增長了20%，反映了強勁的市場需求和有效的管理策略。\n",
    "    \"The firm has declared bankruptcy following a catastrophic loss in market share and revenue.\",\n",
    "    # 「在市場份額和收入慘重損失後，該公司已宣布破產。」\n",
    "  ]\n",
    "\n",
    "predictions = classifier(input_texts)\n",
    "\n",
    "print(predictions)\n"
   ]
  },
  {
   "cell_type": "code",
   "execution_count": 92,
   "metadata": {},
   "outputs": [
    {
     "data": {
      "text/html": [
       "<div>\n",
       "<style scoped>\n",
       "    .dataframe tbody tr th:only-of-type {\n",
       "        vertical-align: middle;\n",
       "    }\n",
       "\n",
       "    .dataframe tbody tr th {\n",
       "        vertical-align: top;\n",
       "    }\n",
       "\n",
       "    .dataframe thead th {\n",
       "        text-align: right;\n",
       "    }\n",
       "</style>\n",
       "<table border=\"1\" class=\"dataframe\">\n",
       "  <thead>\n",
       "    <tr style=\"text-align: right;\">\n",
       "      <th></th>\n",
       "      <th>text</th>\n",
       "      <th>label</th>\n",
       "      <th>score</th>\n",
       "    </tr>\n",
       "  </thead>\n",
       "  <tbody>\n",
       "    <tr>\n",
       "      <th>0</th>\n",
       "      <td>The international electronic industry company ...</td>\n",
       "      <td>Negative</td>\n",
       "      <td>0.586971</td>\n",
       "    </tr>\n",
       "    <tr>\n",
       "      <th>1</th>\n",
       "      <td>The company's revenue has seen a significant i...</td>\n",
       "      <td>Positive</td>\n",
       "      <td>0.532114</td>\n",
       "    </tr>\n",
       "    <tr>\n",
       "      <th>2</th>\n",
       "      <td>The firm has declared bankruptcy following a c...</td>\n",
       "      <td>Negative</td>\n",
       "      <td>0.542831</td>\n",
       "    </tr>\n",
       "  </tbody>\n",
       "</table>\n",
       "</div>"
      ],
      "text/plain": [
       "                                                text     label     score\n",
       "0  The international electronic industry company ...  Negative  0.586971\n",
       "1  The company's revenue has seen a significant i...  Positive  0.532114\n",
       "2  The firm has declared bankruptcy following a c...  Negative  0.542831"
      ]
     },
     "execution_count": 92,
     "metadata": {},
     "output_type": "execute_result"
    }
   ],
   "source": [
    "result_df = pd.DataFrame(predictions)\n",
    "\n",
    "result_df['text'] = input_texts\n",
    "result_df['label'] = result_df['label'].map({'LABEL_0': 'Negative', 'LABEL_1': 'Positive'})\n",
    "\n",
    "result_df = result_df[['text', 'label', 'score']]\n",
    "\n",
    "result_df\n"
   ]
  }
 ],
 "metadata": {
  "kernelspec": {
   "display_name": "Python (base)",
   "language": "python",
   "name": "base"
  },
  "language_info": {
   "codemirror_mode": {
    "name": "ipython",
    "version": 3
   },
   "file_extension": ".py",
   "mimetype": "text/x-python",
   "name": "python",
   "nbconvert_exporter": "python",
   "pygments_lexer": "ipython3",
   "version": "3.10.0"
  }
 },
 "nbformat": 4,
 "nbformat_minor": 2
}
