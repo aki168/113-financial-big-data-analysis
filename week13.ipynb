{
 "cells": [
  {
   "cell_type": "code",
   "execution_count": 114,
   "metadata": {},
   "outputs": [
    {
     "name": "stderr",
     "output_type": "stream",
     "text": [
      "[*********************100%***********************]  30 of 30 completed\n"
     ]
    }
   ],
   "source": [
    "import yfinance as yf\n",
    "\n",
    "# 定義股票代碼\n",
    "tickers = ['2302.TW', '2303.TW', '2329.TW', '2330.TW', '2337.TW', '2338.TW', '2340.TW', \n",
    "          '2342.TW', '2344.TW', '2351.TW', '2363.TW', '2369.TW', '2379.TW', '2388.TW', \n",
    "          '2401.TW', '2408.TW', '2434.TW', '2436.TW', '2441.TW', '2449.TW', '2451.TW', \n",
    "          '2454.TW', '2458.TW', '2481.TW', '3006.TW', '3014.TW', '3016.TW', '3034.TW', \n",
    "          '3035.TW', '3041.TW']\n",
    "\n",
    "# 下載數據\n",
    "data = yf.download(tickers, start='2024-01-01', end='2024-12-01')\n",
    "\n",
    "# 保存收盤價資料\n",
    "closing_prices = data['Adj Close'].dropna(how='all', axis=1)  # 清除全為NaN的列\n"
   ]
  },
  {
   "cell_type": "code",
   "execution_count": 115,
   "metadata": {},
   "outputs": [],
   "source": [
    "import numpy as np\n",
    "\n",
    "def initialize_population(num_portfolios, num_stocks):\n",
    "    population = np.random.rand(num_portfolios, num_stocks)  # 直接生成浮点数\n",
    "    population /= population.sum(axis=1)[:, None]  # 按行标准化，保证权重总和为1\n",
    "    for i in range(num_portfolios):\n",
    "        weights = np.random.rand(num_stocks)  # 生成随机权重\n",
    "        weights /= np.sum(weights)  # 确保权重总和为1\n",
    "        population[i, :] = weights\n",
    "    return population\n",
    "\n",
    "\n",
    "# 初始化族群\n",
    "num_portfolios = 50\n",
    "population = initialize_population(num_portfolios, len(closing_prices.columns))\n"
   ]
  },
  {
   "cell_type": "code",
   "execution_count": 116,
   "metadata": {},
   "outputs": [],
   "source": [
    "def portfolio_performance(weights, returns):\n",
    "    return np.sum(returns.mean() * weights) * 252  # 年化回報率\n",
    "\n",
    "def evaluate_population(population, returns):\n",
    "    performances = []\n",
    "    for i in range(len(population)):\n",
    "        performances.append(portfolio_performance(population[i], returns))\n",
    "    return performances\n",
    "\n",
    "# 計算初始族群的表現\n",
    "daily_returns = closing_prices.pct_change()  # 計算日收益率\n",
    "fitness_scores = evaluate_population(population, daily_returns)\n"
   ]
  },
  {
   "cell_type": "code",
   "execution_count": 117,
   "metadata": {},
   "outputs": [],
   "source": [
    "def normalize_fitness_scores(scores):\n",
    "    min_score = min(scores)\n",
    "    if min_score < 0:\n",
    "        scores = [score + abs(min_score) + 0.01 for score in scores]  # 确保最小值为正数\n",
    "    total = sum(scores)\n",
    "    probabilities = [score / total for score in scores]\n",
    "    return probabilities\n",
    "\n",
    "def select(population, fitness_scores):\n",
    "    # 基於適應度分數進行選擇\n",
    "    probabilities = fitness_scores / np.sum(fitness_scores)\n",
    "    probabilities = normalize_fitness_scores(probabilities)\n",
    "    indices = np.random.choice(np.arange(len(population)), size=len(population), replace=True, p=probabilities)\n",
    "    return population[indices]\n"
   ]
  },
  {
   "cell_type": "code",
   "execution_count": 118,
   "metadata": {},
   "outputs": [
    {
     "name": "stdout",
     "output_type": "stream",
     "text": [
      "[[0.04492874 0.05108043 0.03986819 ... 0.05959877 0.05797188 0.05249039]\n",
      " [0.03958993 0.02748846 0.01341506 ... 0.05856476 0.0609898  0.02366102]\n",
      " [0.03388586 0.04764059 0.02857607 ... 0.05209699 0.00055831 0.05300671]\n",
      " ...\n",
      " [0.01088215 0.06129743 0.01863819 ... 0.02530747 0.02869403 0.05275557]\n",
      " [0.05302398 0.03110556 0.0101385  ... 0.04136581 0.00534982 0.02741646]\n",
      " [0.02807137 0.04757924 0.05181921 ... 0.04617428 0.0520048  0.00605864]]\n"
     ]
    }
   ],
   "source": [
    "def crossover_and_mutation(population, crossover_rate=0.8, mutation_rate=0.05):\n",
    "    # 交叉\n",
    "    new_population = []\n",
    "    for i in range(0, len(population), 2):\n",
    "        parent1, parent2 = population[i], population[(i+1) % len(population)]\n",
    "        if np.random.rand() < crossover_rate:\n",
    "            crossover_point = np.random.randint(1, len(parent1))\n",
    "            child1 = np.concatenate([parent1[:crossover_point], parent2[crossover_point:]])\n",
    "            child2 = np.concatenate([parent2[:crossover_point], parent1[crossover_point:]])\n",
    "            \n",
    "            child1 /= np.sum(child1)  # 确保权重总和为1\n",
    "            child2 /= np.sum(child2)\n",
    "        else:\n",
    "            child1, child2 = parent1, parent2\n",
    "        new_population.extend([child1, child2])\n",
    "    \n",
    "    # 变异\n",
    "    for i in range(len(new_population)):\n",
    "        if np.random.rand() < mutation_rate:\n",
    "            mutation_point = np.random.randint(len(new_population[i]))\n",
    "            mutation_value = new_population[i][mutation_point] * (1 + np.random.normal(0, 0.1))  # 增加小的正态扰动\n",
    "            new_population[i][mutation_point] = mutation_value if mutation_value > 0 else 0  # 确保新权重为正\n",
    "            new_population[i] /= np.sum(new_population[i])  # 确保权重总和为1\n",
    "    \n",
    "    return np.array(new_population)\n",
    "\n",
    "# 进行一代遗传操作\n",
    "selected_population = select(population, fitness_scores)\n",
    "print(selected_population)\n",
    "new_population = crossover_and_mutation(selected_population)\n"
   ]
  },
  {
   "cell_type": "code",
   "execution_count": null,
   "metadata": {},
   "outputs": [],
   "source": []
  },
  {
   "cell_type": "code",
   "execution_count": 119,
   "metadata": {},
   "outputs": [
    {
     "name": "stdout",
     "output_type": "stream",
     "text": [
      "Generation 0: Best fitness -0.004491474303415032\n",
      "選中的個股: \n",
      "Generation 10: Best fitness 0.07821621593631554\n",
      "選中的個股: \n",
      "Generation 20: Best fitness 0.10205824430607928\n",
      "選中的個股: \n",
      "Generation 30: Best fitness 0.10848856168734983\n",
      "選中的個股: \n",
      "Generation 40: Best fitness 0.12055359345690786\n",
      "選中的個股: \n",
      "Generation 50: Best fitness 0.1262237647730751\n",
      "選中的個股: \n",
      "Generation 60: Best fitness 0.1275757443055111\n",
      "選中的個股: \n",
      "Generation 70: Best fitness 0.1275757443055111\n",
      "選中的個股: \n",
      "Generation 80: Best fitness 0.1321797591926446\n",
      "選中的個股: \n",
      "Generation 90: Best fitness 0.1321797591926446\n",
      "選中的個股: \n",
      "Optimization completed.\n"
     ]
    }
   ],
   "source": [
    "def print_selected_stocks(portfolio, stock_names):\n",
    "    selected_stocks = [stock_names[i] for i in range(len(portfolio)) if portfolio[i] == 1]\n",
    "    print(\"選中的個股:\", ', '.join(selected_stocks))\n",
    "\n",
    "# 在迭代過程中添加顯示選中的個股\n",
    "num_generations = 100  # 設定迭代的代數\n",
    "best_portfolio_overall = None\n",
    "best_fitness_overall = float('-inf')\n",
    "stock_names = closing_prices.columns  # 股票名稱\n",
    "\n",
    "for generation in range(num_generations):\n",
    "    # 選擇\n",
    "    probabilities = normalize_fitness_scores(fitness_scores)\n",
    "    selected_population = select(population, probabilities)\n",
    "\n",
    "    # 交叉和突變\n",
    "    new_population = crossover_and_mutation(selected_population)\n",
    "\n",
    "    # 評估新族群的表現\n",
    "    fitness_scores = evaluate_population(new_population, daily_returns)\n",
    "\n",
    "    # 更新族群\n",
    "    population = new_population\n",
    "\n",
    "    # 檢查並保存最佳表現\n",
    "    current_best_fitness = max(fitness_scores)\n",
    "    current_best_index = fitness_scores.index(current_best_fitness)\n",
    "    if current_best_fitness > best_fitness_overall:\n",
    "        best_fitness_overall = current_best_fitness\n",
    "        best_portfolio_overall = population[current_best_index]\n",
    "\n",
    "    # 打印當前代的信息和選中的個股\n",
    "    if generation % 10 == 0:\n",
    "        print(f\"Generation {generation}: Best fitness {best_fitness_overall}\")\n",
    "        print_selected_stocks(population[current_best_index], stock_names)\n",
    "\n",
    "print(\"Optimization completed.\")\n"
   ]
  },
  {
   "cell_type": "code",
   "execution_count": 120,
   "metadata": {},
   "outputs": [
    {
     "name": "stdout",
     "output_type": "stream",
     "text": [
      "最佳投資組合權重: {'2302.TW': 0.08549561997731864, '2303.TW': 0.04926064862972103, '2329.TW': 0.01335302448085793, '2330.TW': 0.10194121871639523, '2337.TW': 0.0020299789777812514, '2338.TW': 0.008175360958323913, '2340.TW': 0.0040250038445489985, '2342.TW': 0.09206719084730794, '2344.TW': 0.012450133763008069, '2351.TW': 0.02264681556922204, '2363.TW': 0.07186750707586737, '2369.TW': 0.0586594428297497, '2379.TW': 0.033043985849950046, '2388.TW': 0.00996939968358619, '2401.TW': 0.01672010233042492, '2408.TW': 0.0008059644416253733, '2434.TW': 0.02379222774215231, '2436.TW': 0.007729389263095365, '2441.TW': 0.007998070922411938, '2449.TW': 0.06400115158253969, '2451.TW': 0.053574533602239995, '2454.TW': 0.054367712003637284, '2458.TW': 0.05262099239335119, '2481.TW': 0.017326260943278004, '3006.TW': 0.0034870617973606567, '3014.TW': 0.03897160363653521, '3016.TW': 0.027696095547469705, '3034.TW': 0.05510410430383609, '3035.TW': 0.009677036083580769, '3041.TW': 0.0011423622028232995}\n",
      "最佳投資組合的年化回報率: 0.1321797591926446\n",
      "最佳投資組合的年化風險: 0.22000285170830905\n"
     ]
    }
   ],
   "source": [
    "# 最佳投資組合的回報率和風險計算\n",
    "best_return = np.sum(daily_returns.mean() * best_portfolio_overall) * 252  # 年化回報率\n",
    "best_risk = np.sqrt(np.dot(best_portfolio_overall.T, np.dot(daily_returns.cov() * 252, best_portfolio_overall)))  # 年化風險\n",
    "\n",
    "print(\"最佳投資組合權重:\", {\n",
    "    stock_names[i]: best_portfolio_overall[i] for i in range(len(best_portfolio_overall))\n",
    "})\n",
    "print(\"最佳投資組合的年化回報率:\", best_return)\n",
    "print(\"最佳投資組合的年化風險:\", best_risk)\n"
   ]
  },
  {
   "cell_type": "code",
   "execution_count": 121,
   "metadata": {},
   "outputs": [
    {
     "name": "stdout",
     "output_type": "stream",
     "text": [
      "30 30\n"
     ]
    }
   ],
   "source": [
    "print(len(stock_names),len(tickers))"
   ]
  }
 ],
 "metadata": {
  "kernelspec": {
   "display_name": "base",
   "language": "python",
   "name": "python3"
  },
  "language_info": {
   "codemirror_mode": {
    "name": "ipython",
    "version": 3
   },
   "file_extension": ".py",
   "mimetype": "text/x-python",
   "name": "python",
   "nbconvert_exporter": "python",
   "pygments_lexer": "ipython3",
   "version": "3.12.2"
  }
 },
 "nbformat": 4,
 "nbformat_minor": 2
}
