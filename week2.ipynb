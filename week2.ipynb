{
 "cells": [
  {
   "cell_type": "code",
   "execution_count": 4,
   "metadata": {},
   "outputs": [],
   "source": [
    "import pandas as pd\n",
    "import requests, json\n",
    "import plotly.graph_objects as go\n",
    "from datetime import datetime"
   ]
  },
  {
   "cell_type": "code",
   "execution_count": 5,
   "metadata": {},
   "outputs": [],
   "source": [
    "\n",
    "code = input(\"請輸入台股代碼(例如：2330): \")\n",
    "YYYY = input(\"請輸入查詢年份(例如：2024): \")\n",
    "MM = input(\"請輸入查詢月份(例如：5): \")\n",
    "if len(MM) == 1:\n",
    "    MM = '0' + MM\n",
    "query_interval = YYYY + MM + '01'\n",
    "\n"
   ]
  },
  {
   "cell_type": "code",
   "execution_count": 6,
   "metadata": {},
   "outputs": [
    {
     "name": "stdout",
     "output_type": "stream",
     "text": [
      "https://www.twse.com.tw/exchangeReport/STOCK_DAY?response=json&date=20240101&stockNo=2330\n",
      "           日期         成交股數             成交金額     開盤價     最高價     最低價     收盤價  \\\n",
      "0   113/01/02   27,997,826   16,549,619,798  590.00  593.00  589.00  593.00   \n",
      "1   113/01/03   40,134,497   23,267,025,945  584.00  585.00  576.00  578.00   \n",
      "2   113/01/04   18,063,758   10,466,284,102  580.00  581.00  577.00  580.00   \n",
      "3   113/01/05   22,008,878   12,685,460,114  578.00  580.00  574.00  576.00   \n",
      "4   113/01/08   19,270,119   11,232,942,053  582.00  585.00  579.00  583.00   \n",
      "5   113/01/09   23,718,766   13,909,252,422  588.00  589.00  583.00  586.00   \n",
      "6   113/01/10   13,708,117    8,006,229,126  581.00  586.00  580.00  584.00   \n",
      "7   113/01/11   27,842,729   16,323,168,586  586.00  589.00  583.00  586.00   \n",
      "8   113/01/12   17,636,558   10,304,253,419  581.00  588.00  581.00  584.00   \n",
      "9   113/01/15   21,900,687   12,873,769,022  590.00  590.00  585.00  586.00   \n",
      "10  113/01/16   28,889,681   16,817,280,777  581.00  588.00  579.00  580.00   \n",
      "11  113/01/17   46,857,735   27,229,863,028  583.00  584.00  578.00  581.00   \n",
      "12  113/01/18   36,746,623   21,575,062,923  586.00  589.00  585.00  588.00   \n",
      "13  113/01/19  176,166,037  109,423,769,320  625.00  627.00  614.00  626.00   \n",
      "14  113/01/22   70,829,523   44,436,449,501  633.00  633.00  623.00  626.00   \n",
      "15  113/01/23   45,761,889   28,681,559,251  629.00  629.00  622.00  628.00   \n",
      "16  113/01/24   29,905,121   18,779,693,566  628.00  630.00  624.00  627.00   \n",
      "17  113/01/25   59,214,638   37,803,501,446  635.00  642.00  633.00  642.00   \n",
      "18  113/01/26   44,103,850   28,392,638,215  644.00  646.00  639.00  644.00   \n",
      "19  113/01/29   29,828,008   19,268,444,564  646.00  648.00  644.00  648.00   \n",
      "20  113/01/30   40,398,877   26,028,211,247  642.00  647.00  642.00  642.00   \n",
      "21  113/01/31   47,554,701   29,978,630,024  634.00  637.00  626.00  628.00   \n",
      "\n",
      "      漲跌價差     成交筆數  \n",
      "0     0.00   20,667  \n",
      "1   -15.00   56,916  \n",
      "2    +2.00   15,010  \n",
      "3    -4.00   28,660  \n",
      "4    +7.00   19,950  \n",
      "5    +3.00   23,975  \n",
      "6    -2.00   16,104  \n",
      "7    +2.00   20,754  \n",
      "8    -2.00   15,765  \n",
      "9    +2.00   21,886  \n",
      "10   -6.00   21,938  \n",
      "11   +1.00   28,790  \n",
      "12   +7.00   28,621  \n",
      "13  +38.00  207,364  \n",
      "14    0.00   56,376  \n",
      "15   +2.00   34,729  \n",
      "16   -1.00   27,062  \n",
      "17  +15.00   85,006  \n",
      "18   +2.00   41,691  \n",
      "19   +4.00   32,347  \n",
      "20   -6.00   35,002  \n",
      "21  -14.00   61,811  \n",
      "--------------------------------\n"
     ]
    },
    {
     "data": {
      "application/vnd.plotly.v1+json": {
       "config": {
        "plotlyServerURL": "https://plot.ly"
       },
       "data": [
        {
         "close": [
          "593.00",
          "578.00",
          "580.00",
          "576.00",
          "583.00",
          "586.00",
          "584.00",
          "586.00",
          "584.00",
          "586.00",
          "580.00",
          "581.00",
          "588.00",
          "626.00",
          "626.00",
          "628.00",
          "627.00",
          "642.00",
          "644.00",
          "648.00",
          "642.00",
          "628.00"
         ],
         "decreasing": {
          "line": {
           "color": "green"
          }
         },
         "high": [
          "593.00",
          "585.00",
          "581.00",
          "580.00",
          "585.00",
          "589.00",
          "586.00",
          "589.00",
          "588.00",
          "590.00",
          "588.00",
          "584.00",
          "589.00",
          "627.00",
          "633.00",
          "629.00",
          "630.00",
          "642.00",
          "646.00",
          "648.00",
          "647.00",
          "637.00"
         ],
         "increasing": {
          "line": {
           "color": "red"
          }
         },
         "low": [
          "589.00",
          "576.00",
          "577.00",
          "574.00",
          "579.00",
          "583.00",
          "580.00",
          "583.00",
          "581.00",
          "585.00",
          "579.00",
          "578.00",
          "585.00",
          "614.00",
          "623.00",
          "622.00",
          "624.00",
          "633.00",
          "639.00",
          "644.00",
          "642.00",
          "626.00"
         ],
         "open": [
          "590.00",
          "584.00",
          "580.00",
          "578.00",
          "582.00",
          "588.00",
          "581.00",
          "586.00",
          "581.00",
          "590.00",
          "581.00",
          "583.00",
          "586.00",
          "625.00",
          "633.00",
          "629.00",
          "628.00",
          "635.00",
          "644.00",
          "646.00",
          "642.00",
          "634.00"
         ],
         "type": "candlestick",
         "x": [
          "113/01/02",
          "113/01/03",
          "113/01/04",
          "113/01/05",
          "113/01/08",
          "113/01/09",
          "113/01/10",
          "113/01/11",
          "113/01/12",
          "113/01/15",
          "113/01/16",
          "113/01/17",
          "113/01/18",
          "113/01/19",
          "113/01/22",
          "113/01/23",
          "113/01/24",
          "113/01/25",
          "113/01/26",
          "113/01/29",
          "113/01/30",
          "113/01/31"
         ]
        }
       ],
       "layout": {
        "template": {
         "data": {
          "bar": [
           {
            "error_x": {
             "color": "#2a3f5f"
            },
            "error_y": {
             "color": "#2a3f5f"
            },
            "marker": {
             "line": {
              "color": "#E5ECF6",
              "width": 0.5
             },
             "pattern": {
              "fillmode": "overlay",
              "size": 10,
              "solidity": 0.2
             }
            },
            "type": "bar"
           }
          ],
          "barpolar": [
           {
            "marker": {
             "line": {
              "color": "#E5ECF6",
              "width": 0.5
             },
             "pattern": {
              "fillmode": "overlay",
              "size": 10,
              "solidity": 0.2
             }
            },
            "type": "barpolar"
           }
          ],
          "carpet": [
           {
            "aaxis": {
             "endlinecolor": "#2a3f5f",
             "gridcolor": "white",
             "linecolor": "white",
             "minorgridcolor": "white",
             "startlinecolor": "#2a3f5f"
            },
            "baxis": {
             "endlinecolor": "#2a3f5f",
             "gridcolor": "white",
             "linecolor": "white",
             "minorgridcolor": "white",
             "startlinecolor": "#2a3f5f"
            },
            "type": "carpet"
           }
          ],
          "choropleth": [
           {
            "colorbar": {
             "outlinewidth": 0,
             "ticks": ""
            },
            "type": "choropleth"
           }
          ],
          "contour": [
           {
            "colorbar": {
             "outlinewidth": 0,
             "ticks": ""
            },
            "colorscale": [
             [
              0,
              "#0d0887"
             ],
             [
              0.1111111111111111,
              "#46039f"
             ],
             [
              0.2222222222222222,
              "#7201a8"
             ],
             [
              0.3333333333333333,
              "#9c179e"
             ],
             [
              0.4444444444444444,
              "#bd3786"
             ],
             [
              0.5555555555555556,
              "#d8576b"
             ],
             [
              0.6666666666666666,
              "#ed7953"
             ],
             [
              0.7777777777777778,
              "#fb9f3a"
             ],
             [
              0.8888888888888888,
              "#fdca26"
             ],
             [
              1,
              "#f0f921"
             ]
            ],
            "type": "contour"
           }
          ],
          "contourcarpet": [
           {
            "colorbar": {
             "outlinewidth": 0,
             "ticks": ""
            },
            "type": "contourcarpet"
           }
          ],
          "heatmap": [
           {
            "colorbar": {
             "outlinewidth": 0,
             "ticks": ""
            },
            "colorscale": [
             [
              0,
              "#0d0887"
             ],
             [
              0.1111111111111111,
              "#46039f"
             ],
             [
              0.2222222222222222,
              "#7201a8"
             ],
             [
              0.3333333333333333,
              "#9c179e"
             ],
             [
              0.4444444444444444,
              "#bd3786"
             ],
             [
              0.5555555555555556,
              "#d8576b"
             ],
             [
              0.6666666666666666,
              "#ed7953"
             ],
             [
              0.7777777777777778,
              "#fb9f3a"
             ],
             [
              0.8888888888888888,
              "#fdca26"
             ],
             [
              1,
              "#f0f921"
             ]
            ],
            "type": "heatmap"
           }
          ],
          "heatmapgl": [
           {
            "colorbar": {
             "outlinewidth": 0,
             "ticks": ""
            },
            "colorscale": [
             [
              0,
              "#0d0887"
             ],
             [
              0.1111111111111111,
              "#46039f"
             ],
             [
              0.2222222222222222,
              "#7201a8"
             ],
             [
              0.3333333333333333,
              "#9c179e"
             ],
             [
              0.4444444444444444,
              "#bd3786"
             ],
             [
              0.5555555555555556,
              "#d8576b"
             ],
             [
              0.6666666666666666,
              "#ed7953"
             ],
             [
              0.7777777777777778,
              "#fb9f3a"
             ],
             [
              0.8888888888888888,
              "#fdca26"
             ],
             [
              1,
              "#f0f921"
             ]
            ],
            "type": "heatmapgl"
           }
          ],
          "histogram": [
           {
            "marker": {
             "pattern": {
              "fillmode": "overlay",
              "size": 10,
              "solidity": 0.2
             }
            },
            "type": "histogram"
           }
          ],
          "histogram2d": [
           {
            "colorbar": {
             "outlinewidth": 0,
             "ticks": ""
            },
            "colorscale": [
             [
              0,
              "#0d0887"
             ],
             [
              0.1111111111111111,
              "#46039f"
             ],
             [
              0.2222222222222222,
              "#7201a8"
             ],
             [
              0.3333333333333333,
              "#9c179e"
             ],
             [
              0.4444444444444444,
              "#bd3786"
             ],
             [
              0.5555555555555556,
              "#d8576b"
             ],
             [
              0.6666666666666666,
              "#ed7953"
             ],
             [
              0.7777777777777778,
              "#fb9f3a"
             ],
             [
              0.8888888888888888,
              "#fdca26"
             ],
             [
              1,
              "#f0f921"
             ]
            ],
            "type": "histogram2d"
           }
          ],
          "histogram2dcontour": [
           {
            "colorbar": {
             "outlinewidth": 0,
             "ticks": ""
            },
            "colorscale": [
             [
              0,
              "#0d0887"
             ],
             [
              0.1111111111111111,
              "#46039f"
             ],
             [
              0.2222222222222222,
              "#7201a8"
             ],
             [
              0.3333333333333333,
              "#9c179e"
             ],
             [
              0.4444444444444444,
              "#bd3786"
             ],
             [
              0.5555555555555556,
              "#d8576b"
             ],
             [
              0.6666666666666666,
              "#ed7953"
             ],
             [
              0.7777777777777778,
              "#fb9f3a"
             ],
             [
              0.8888888888888888,
              "#fdca26"
             ],
             [
              1,
              "#f0f921"
             ]
            ],
            "type": "histogram2dcontour"
           }
          ],
          "mesh3d": [
           {
            "colorbar": {
             "outlinewidth": 0,
             "ticks": ""
            },
            "type": "mesh3d"
           }
          ],
          "parcoords": [
           {
            "line": {
             "colorbar": {
              "outlinewidth": 0,
              "ticks": ""
             }
            },
            "type": "parcoords"
           }
          ],
          "pie": [
           {
            "automargin": true,
            "type": "pie"
           }
          ],
          "scatter": [
           {
            "fillpattern": {
             "fillmode": "overlay",
             "size": 10,
             "solidity": 0.2
            },
            "type": "scatter"
           }
          ],
          "scatter3d": [
           {
            "line": {
             "colorbar": {
              "outlinewidth": 0,
              "ticks": ""
             }
            },
            "marker": {
             "colorbar": {
              "outlinewidth": 0,
              "ticks": ""
             }
            },
            "type": "scatter3d"
           }
          ],
          "scattercarpet": [
           {
            "marker": {
             "colorbar": {
              "outlinewidth": 0,
              "ticks": ""
             }
            },
            "type": "scattercarpet"
           }
          ],
          "scattergeo": [
           {
            "marker": {
             "colorbar": {
              "outlinewidth": 0,
              "ticks": ""
             }
            },
            "type": "scattergeo"
           }
          ],
          "scattergl": [
           {
            "marker": {
             "colorbar": {
              "outlinewidth": 0,
              "ticks": ""
             }
            },
            "type": "scattergl"
           }
          ],
          "scattermapbox": [
           {
            "marker": {
             "colorbar": {
              "outlinewidth": 0,
              "ticks": ""
             }
            },
            "type": "scattermapbox"
           }
          ],
          "scatterpolar": [
           {
            "marker": {
             "colorbar": {
              "outlinewidth": 0,
              "ticks": ""
             }
            },
            "type": "scatterpolar"
           }
          ],
          "scatterpolargl": [
           {
            "marker": {
             "colorbar": {
              "outlinewidth": 0,
              "ticks": ""
             }
            },
            "type": "scatterpolargl"
           }
          ],
          "scatterternary": [
           {
            "marker": {
             "colorbar": {
              "outlinewidth": 0,
              "ticks": ""
             }
            },
            "type": "scatterternary"
           }
          ],
          "surface": [
           {
            "colorbar": {
             "outlinewidth": 0,
             "ticks": ""
            },
            "colorscale": [
             [
              0,
              "#0d0887"
             ],
             [
              0.1111111111111111,
              "#46039f"
             ],
             [
              0.2222222222222222,
              "#7201a8"
             ],
             [
              0.3333333333333333,
              "#9c179e"
             ],
             [
              0.4444444444444444,
              "#bd3786"
             ],
             [
              0.5555555555555556,
              "#d8576b"
             ],
             [
              0.6666666666666666,
              "#ed7953"
             ],
             [
              0.7777777777777778,
              "#fb9f3a"
             ],
             [
              0.8888888888888888,
              "#fdca26"
             ],
             [
              1,
              "#f0f921"
             ]
            ],
            "type": "surface"
           }
          ],
          "table": [
           {
            "cells": {
             "fill": {
              "color": "#EBF0F8"
             },
             "line": {
              "color": "white"
             }
            },
            "header": {
             "fill": {
              "color": "#C8D4E3"
             },
             "line": {
              "color": "white"
             }
            },
            "type": "table"
           }
          ]
         },
         "layout": {
          "annotationdefaults": {
           "arrowcolor": "#2a3f5f",
           "arrowhead": 0,
           "arrowwidth": 1
          },
          "autotypenumbers": "strict",
          "coloraxis": {
           "colorbar": {
            "outlinewidth": 0,
            "ticks": ""
           }
          },
          "colorscale": {
           "diverging": [
            [
             0,
             "#8e0152"
            ],
            [
             0.1,
             "#c51b7d"
            ],
            [
             0.2,
             "#de77ae"
            ],
            [
             0.3,
             "#f1b6da"
            ],
            [
             0.4,
             "#fde0ef"
            ],
            [
             0.5,
             "#f7f7f7"
            ],
            [
             0.6,
             "#e6f5d0"
            ],
            [
             0.7,
             "#b8e186"
            ],
            [
             0.8,
             "#7fbc41"
            ],
            [
             0.9,
             "#4d9221"
            ],
            [
             1,
             "#276419"
            ]
           ],
           "sequential": [
            [
             0,
             "#0d0887"
            ],
            [
             0.1111111111111111,
             "#46039f"
            ],
            [
             0.2222222222222222,
             "#7201a8"
            ],
            [
             0.3333333333333333,
             "#9c179e"
            ],
            [
             0.4444444444444444,
             "#bd3786"
            ],
            [
             0.5555555555555556,
             "#d8576b"
            ],
            [
             0.6666666666666666,
             "#ed7953"
            ],
            [
             0.7777777777777778,
             "#fb9f3a"
            ],
            [
             0.8888888888888888,
             "#fdca26"
            ],
            [
             1,
             "#f0f921"
            ]
           ],
           "sequentialminus": [
            [
             0,
             "#0d0887"
            ],
            [
             0.1111111111111111,
             "#46039f"
            ],
            [
             0.2222222222222222,
             "#7201a8"
            ],
            [
             0.3333333333333333,
             "#9c179e"
            ],
            [
             0.4444444444444444,
             "#bd3786"
            ],
            [
             0.5555555555555556,
             "#d8576b"
            ],
            [
             0.6666666666666666,
             "#ed7953"
            ],
            [
             0.7777777777777778,
             "#fb9f3a"
            ],
            [
             0.8888888888888888,
             "#fdca26"
            ],
            [
             1,
             "#f0f921"
            ]
           ]
          },
          "colorway": [
           "#636efa",
           "#EF553B",
           "#00cc96",
           "#ab63fa",
           "#FFA15A",
           "#19d3f3",
           "#FF6692",
           "#B6E880",
           "#FF97FF",
           "#FECB52"
          ],
          "font": {
           "color": "#2a3f5f"
          },
          "geo": {
           "bgcolor": "white",
           "lakecolor": "white",
           "landcolor": "#E5ECF6",
           "showlakes": true,
           "showland": true,
           "subunitcolor": "white"
          },
          "hoverlabel": {
           "align": "left"
          },
          "hovermode": "closest",
          "mapbox": {
           "style": "light"
          },
          "paper_bgcolor": "white",
          "plot_bgcolor": "#E5ECF6",
          "polar": {
           "angularaxis": {
            "gridcolor": "white",
            "linecolor": "white",
            "ticks": ""
           },
           "bgcolor": "#E5ECF6",
           "radialaxis": {
            "gridcolor": "white",
            "linecolor": "white",
            "ticks": ""
           }
          },
          "scene": {
           "xaxis": {
            "backgroundcolor": "#E5ECF6",
            "gridcolor": "white",
            "gridwidth": 2,
            "linecolor": "white",
            "showbackground": true,
            "ticks": "",
            "zerolinecolor": "white"
           },
           "yaxis": {
            "backgroundcolor": "#E5ECF6",
            "gridcolor": "white",
            "gridwidth": 2,
            "linecolor": "white",
            "showbackground": true,
            "ticks": "",
            "zerolinecolor": "white"
           },
           "zaxis": {
            "backgroundcolor": "#E5ECF6",
            "gridcolor": "white",
            "gridwidth": 2,
            "linecolor": "white",
            "showbackground": true,
            "ticks": "",
            "zerolinecolor": "white"
           }
          },
          "shapedefaults": {
           "line": {
            "color": "#2a3f5f"
           }
          },
          "ternary": {
           "aaxis": {
            "gridcolor": "white",
            "linecolor": "white",
            "ticks": ""
           },
           "baxis": {
            "gridcolor": "white",
            "linecolor": "white",
            "ticks": ""
           },
           "bgcolor": "#E5ECF6",
           "caxis": {
            "gridcolor": "white",
            "linecolor": "white",
            "ticks": ""
           }
          },
          "title": {
           "x": 0.05
          },
          "xaxis": {
           "automargin": true,
           "gridcolor": "white",
           "linecolor": "white",
           "ticks": "",
           "title": {
            "standoff": 15
           },
           "zerolinecolor": "white",
           "zerolinewidth": 2
          },
          "yaxis": {
           "automargin": true,
           "gridcolor": "white",
           "linecolor": "white",
           "ticks": "",
           "title": {
            "standoff": 15
           },
           "zerolinecolor": "white",
           "zerolinewidth": 2
          }
         }
        },
        "title": {
         "text": "2330.TW 2024年01月 股價走勢"
        },
        "xaxis": {
         "rangeslider": {
          "visible": true
         },
         "title": {
          "text": "日期"
         }
        },
        "yaxis": {
         "title": {
          "text": "價格"
         }
        }
       }
      }
     },
     "metadata": {},
     "output_type": "display_data"
    }
   ],
   "source": [
    "url = 'https://www.twse.com.tw/exchangeReport/STOCK_DAY?response=json&date=%s&stockNo=%s' % (query_interval,code)\n",
    "print(url)\n",
    "html = requests.get(url)\n",
    "content = json.loads(html.text)\n",
    "\n",
    "if content['total'] != 0:\n",
    "    stock_data = content['data']\n",
    "    col_name = content['fields']\n",
    "\n",
    "    df = pd.DataFrame(data=stock_data, columns=col_name)\n",
    "    print(df) \n",
    "    print(\"--------------------------------\")\n",
    "    fig = go.Figure(data=[go.Candlestick(x=df['日期'],\n",
    "                                    open=df['開盤價'],\n",
    "                                    high=df['最高價'],\n",
    "                                    low=df['最低價'],\n",
    "                                    close=df['收盤價'],\n",
    "                                    increasing_line_color='red',\n",
    "                                    decreasing_line_color='green')])\n",
    "    fig.update_layout(title=f'{code}.TW {YYYY}年{MM}月 股價走勢',\n",
    "                    xaxis_title='日期',\n",
    "                    yaxis_title='價格',\n",
    "                xaxis_rangeslider_visible=True)\n",
    "    fig.show()\n",
    "else:\n",
    "    print(\"查無資料\")\n",
    "\n",
    "\n"
   ]
  }
 ],
 "metadata": {
  "kernelspec": {
   "display_name": "Python 3",
   "language": "python",
   "name": "python3"
  },
  "language_info": {
   "codemirror_mode": {
    "name": "ipython",
    "version": 3
   },
   "file_extension": ".py",
   "mimetype": "text/x-python",
   "name": "python",
   "nbconvert_exporter": "python",
   "pygments_lexer": "ipython3",
   "version": "3.10.0"
  }
 },
 "nbformat": 4,
 "nbformat_minor": 2
}
