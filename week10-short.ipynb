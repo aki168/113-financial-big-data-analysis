{
 "cells": [
  {
   "cell_type": "markdown",
   "metadata": {},
   "source": [
    "使用 Hugging Face 框架建立 BERT 模型，針對金融領域文本進行情緒分析訓練。\n",
    "可使用以下提供的資料集，或選擇其他適合的金融文本資料集。"
   ]
  },
  {
   "cell_type": "code",
   "execution_count": 15,
   "metadata": {},
   "outputs": [],
   "source": [
    "import pandas as pd\n",
    "\n",
    "def load_data(file_path):\n",
    "    with open(file_path, 'r', encoding='latin1') as file:\n",
    "        lines = file.readlines()\n",
    "        data = [line.strip().split('@') for line in lines]\n",
    "        df = pd.DataFrame(data, columns=['text', 'label'])\n",
    "    return df\n",
    "\n",
    "file_path = './data/FinancialPhraseBank/Sentences_AllAgree_short.txt'\n",
    "df =load_data(file_path)"
   ]
  },
  {
   "cell_type": "code",
   "execution_count": 16,
   "metadata": {},
   "outputs": [
    {
     "name": "stdout",
     "output_type": "stream",
     "text": [
      "label\n",
      "1.0    31\n",
      "0.0    18\n",
      "Name: count, dtype: int64\n"
     ]
    }
   ],
   "source": [
    "label_map = {'negative': 0, 'positive': 1}\n",
    "df['label'] = df['label'].map(label_map)\n",
    "# label = NaN drop\n",
    "df = df.dropna(subset=['label'])\n",
    "print(df['label'].value_counts())\n"
   ]
  },
  {
   "cell_type": "code",
   "execution_count": 17,
   "metadata": {},
   "outputs": [
    {
     "data": {
      "text/html": [
       "<div>\n",
       "<style scoped>\n",
       "    .dataframe tbody tr th:only-of-type {\n",
       "        vertical-align: middle;\n",
       "    }\n",
       "\n",
       "    .dataframe tbody tr th {\n",
       "        vertical-align: top;\n",
       "    }\n",
       "\n",
       "    .dataframe thead th {\n",
       "        text-align: right;\n",
       "    }\n",
       "</style>\n",
       "<table border=\"1\" class=\"dataframe\">\n",
       "  <thead>\n",
       "    <tr style=\"text-align: right;\">\n",
       "      <th></th>\n",
       "      <th>text</th>\n",
       "      <th>label</th>\n",
       "    </tr>\n",
       "  </thead>\n",
       "  <tbody>\n",
       "    <tr>\n",
       "      <th>13</th>\n",
       "      <td>Nordea Group 's operating profit increased in ...</td>\n",
       "      <td>1.0</td>\n",
       "    </tr>\n",
       "    <tr>\n",
       "      <th>5</th>\n",
       "      <td>Consolidated net sales increased 16 % to reach...</td>\n",
       "      <td>1.0</td>\n",
       "    </tr>\n",
       "    <tr>\n",
       "      <th>44</th>\n",
       "      <td>UPM-Kymmene has generated seventeen consecutiv...</td>\n",
       "      <td>1.0</td>\n",
       "    </tr>\n",
       "    <tr>\n",
       "      <th>9</th>\n",
       "      <td>MegaFon 's subscriber base increased 16.1 % in...</td>\n",
       "      <td>1.0</td>\n",
       "    </tr>\n",
       "    <tr>\n",
       "      <th>4</th>\n",
       "      <td>Clothing retail chain Sepp+ï¿½l+ï¿½ 's sales i...</td>\n",
       "      <td>1.0</td>\n",
       "    </tr>\n",
       "  </tbody>\n",
       "</table>\n",
       "</div>"
      ],
      "text/plain": [
       "                                                 text  label\n",
       "13  Nordea Group 's operating profit increased in ...    1.0\n",
       "5   Consolidated net sales increased 16 % to reach...    1.0\n",
       "44  UPM-Kymmene has generated seventeen consecutiv...    1.0\n",
       "9   MegaFon 's subscriber base increased 16.1 % in...    1.0\n",
       "4   Clothing retail chain Sepp+ï¿½l+ï¿½ 's sales i...    1.0"
      ]
     },
     "execution_count": 17,
     "metadata": {},
     "output_type": "execute_result"
    }
   ],
   "source": [
    "from sklearn.model_selection import train_test_split\n",
    "\n",
    "train_df, test_df = train_test_split(df, test_size=0.2, random_state=42)\n",
    "train_df.head()\n"
   ]
  },
  {
   "cell_type": "code",
   "execution_count": 18,
   "metadata": {},
   "outputs": [
    {
     "name": "stderr",
     "output_type": "stream",
     "text": [
      "Some weights of BertForSequenceClassification were not initialized from the model checkpoint at bert-base-uncased and are newly initialized: ['classifier.bias', 'classifier.weight']\n",
      "You should probably TRAIN this model on a down-stream task to be able to use it for predictions and inference.\n"
     ]
    }
   ],
   "source": [
    "# 加載 BERT 模型與分詞器\n",
    "# !pip install tf-keras\n",
    "\n",
    "from transformers import BertTokenizer\n",
    "from transformers import BertForSequenceClassification\n",
    "from torch.utils.data import DataLoader, Dataset\n",
    "import torch\n",
    "# 初始化分詞器和模型\n",
    "tokenizer = BertTokenizer.from_pretrained('bert-base-uncased')\n",
    "\n",
    "model = BertForSequenceClassification.from_pretrained('bert-base-uncased', num_labels=len(label_map))\n",
    "\n",
    "class FinancialDataset(Dataset):\n",
    "    def __init__(self, df, tokenizer, max_len=512):\n",
    "        self.df = df\n",
    "        self.tokenizer = tokenizer\n",
    "        self.max_len = max_len\n",
    "\n",
    "    def __len__(self):\n",
    "        return len(self.df)\n",
    "\n",
    "    def __getitem__(self, idx): \n",
    "        text = self.df.iloc[idx]['text']\n",
    "        label = self.df.iloc[idx]['label']\n",
    "\n",
    "        encoding = self.tokenizer.encode_plus(\n",
    "            text,\n",
    "            add_special_tokens=True,\n",
    "            max_length=self.max_len,\n",
    "            padding='max_length',\n",
    "            truncation=True,\n",
    "        ) \n",
    "\n",
    "        return {\n",
    "            'text': text,\n",
    "            'input_ids': encoding['input_ids'],\n",
    "            'attention_mask': encoding['attention_mask'],\n",
    "            'label': torch.tensor(label, dtype=torch.long)\n",
    "        }\n",
    "    \n",
    "\n",
    "train_dataset = FinancialDataset(train_df, tokenizer, max_len=512)\n",
    "test_dataset = FinancialDataset(test_df, tokenizer, max_len=512)\n",
    "\n",
    "\n"
   ]
  },
  {
   "cell_type": "code",
   "execution_count": 19,
   "metadata": {},
   "outputs": [
    {
     "name": "stderr",
     "output_type": "stream",
     "text": [
      "100%|██████████| 10/10 [01:07<00:00,  6.71s/it]"
     ]
    },
    {
     "name": "stdout",
     "output_type": "stream",
     "text": [
      "{'train_runtime': 67.0816, 'train_samples_per_second': 1.163, 'train_steps_per_second': 0.149, 'train_loss': 0.8630114555358886, 'epoch': 2.0}\n"
     ]
    },
    {
     "name": "stderr",
     "output_type": "stream",
     "text": [
      "\n"
     ]
    },
    {
     "data": {
      "text/plain": [
       "TrainOutput(global_step=10, training_loss=0.8630114555358886, metrics={'train_runtime': 67.0816, 'train_samples_per_second': 1.163, 'train_steps_per_second': 0.149, 'total_flos': 20522662318080.0, 'train_loss': 0.8630114555358886, 'epoch': 2.0})"
      ]
     },
     "execution_count": 19,
     "metadata": {},
     "output_type": "execute_result"
    }
   ],
   "source": [
    "# 訓練模型\n",
    "from transformers import Trainer, TrainingArguments\n",
    "\n",
    "training_args = TrainingArguments(\n",
    "    output_dir='./results-short',\n",
    "    num_train_epochs=2,\n",
    "    per_device_train_batch_size=8,\n",
    "    per_device_eval_batch_size=16,\n",
    "    warmup_steps=500,\n",
    "    weight_decay=0.01,\n",
    "    eval_strategy='steps',  \n",
    "    logging_dir='./logs',\n",
    ")\n",
    "\n",
    "trainer = Trainer(\n",
    "    model=model,\n",
    "    args=training_args,\n",
    "    train_dataset=train_dataset,\n",
    "    eval_dataset=test_dataset\n",
    ")\n",
    "\n",
    "trainer.train()\n"
   ]
  },
  {
   "cell_type": "code",
   "execution_count": 20,
   "metadata": {},
   "outputs": [
    {
     "name": "stderr",
     "output_type": "stream",
     "text": [
      "100%|██████████| 1/1 [00:00<00:00,  4.99it/s]\n"
     ]
    },
    {
     "data": {
      "text/plain": [
       "('./my_finance_model-short/tokenizer_config.json',\n",
       " './my_finance_model-short/special_tokens_map.json',\n",
       " './my_finance_model-short/vocab.txt',\n",
       " './my_finance_model-short/added_tokens.json')"
      ]
     },
     "execution_count": 20,
     "metadata": {},
     "output_type": "execute_result"
    }
   ],
   "source": [
    "trainer.evaluate()\n",
    "\n",
    "# 保存模型\n",
    "model.save_pretrained('./my_finance_model-short')\n",
    "tokenizer.save_pretrained('./my_finance_model-short')\n"
   ]
  },
  {
   "cell_type": "code",
   "execution_count": 23,
   "metadata": {},
   "outputs": [
    {
     "name": "stdout",
     "output_type": "stream",
     "text": [
      "[{'label': 'LABEL_0', 'score': 0.6306755542755127}, {'label': 'LABEL_0', 'score': 0.634833037853241}, {'label': 'LABEL_0', 'score': 0.5938164591789246}, {'label': 'LABEL_0', 'score': 0.6194185018539429}, {'label': 'LABEL_0', 'score': 0.6260707378387451}, {'label': 'LABEL_0', 'score': 0.6286526918411255}]\n"
     ]
    }
   ],
   "source": [
    "from transformers import pipeline\n",
    "\n",
    "classifier = pipeline('sentiment-analysis', model=model, tokenizer=tokenizer,device=0)\n",
    "\n",
    "predictions = classifier(\n",
    "  [\n",
    "    \"Investor confidence has been shattered by the scandal involving top executives, leading to a sharp decline in share value.\",\n",
    "    # 「高層主管卷入醜聞，打碎了投資者的信心，導致股價急劇下跌。」\n",
    "    \"The corporation faced a severe liquidity crisis, failing to meet its short-term financial obligations.\",\n",
    "    # 「該公司面臨嚴重的流動性危機，未能滿足其短期財務義務。」\n",
    "    \"Due to unexpected regulatory changes, the company's projected profits for the year have been drastically reduced.\",\n",
    "    # 「由於意外的監管變更，公司當年的預期利潤大幅下調。」\n",
    "    \"The firm has declared bankruptcy following a catastrophic loss in market share and revenue.\",\n",
    "    # 「在市場份額和收入慘重損失後，該公司已宣布破產。」\n",
    "    \"Net sales surged by 18.5 % to EUR167 .8 m. Teleste said that EUR20 .4 m , or 12.2 % , of the sales came from the acquisitions made in 2009 .\",\n",
    "    # 「銷售額激增18.5%至EUR167.8m。Teleste表示，銷售額的12.2%來自2009年收購的銷售額。」\n",
    "    \"Nordea Group 's operating profit increased in 2010 by 18 percent year-on-year to 3.64 billion euros and total revenue by 3 percent to 9.33 billion euros .\"\n",
    "    # 「諾德銀行集團2010年的營業利潤同比增長18%至36.4億歐元，總收入同比增長3%至93.3億歐元。」\n",
    "    ]\n",
    "  )\n",
    "\n",
    "print(predictions)\n"
   ]
  }
 ],
 "metadata": {
  "kernelspec": {
   "display_name": "Python (base)",
   "language": "python",
   "name": "base"
  },
  "language_info": {
   "codemirror_mode": {
    "name": "ipython",
    "version": 3
   },
   "file_extension": ".py",
   "mimetype": "text/x-python",
   "name": "python",
   "nbconvert_exporter": "python",
   "pygments_lexer": "ipython3",
   "version": "3.10.0"
  }
 },
 "nbformat": 4,
 "nbformat_minor": 2
}
