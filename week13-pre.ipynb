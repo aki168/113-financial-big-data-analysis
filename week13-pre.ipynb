{
 "cells": [
  {
   "cell_type": "code",
   "execution_count": 113,
   "metadata": {},
   "outputs": [],
   "source": [
    "import yfinance as yf\n",
    "import pandas as pd\n",
    "import numpy as np"
   ]
  },
  {
   "cell_type": "code",
   "execution_count": 114,
   "metadata": {},
   "outputs": [
    {
     "name": "stderr",
     "output_type": "stream",
     "text": [
      "[*********************100%***********************]  2 of 2 completed"
     ]
    },
    {
     "name": "stdout",
     "output_type": "stream",
     "text": [
      "平均日收益: Ticker\n",
      "2330.TW    0.000638\n",
      "2881.TW    0.000789\n",
      "dtype: float64\n",
      "日收益率標準差: Ticker\n",
      "2330.TW    0.018222\n",
      "2881.TW    0.016112\n",
      "dtype: float64\n",
      "相關係數矩陣: Ticker    2330.TW   2881.TW\n",
      "Ticker                     \n",
      "2330.TW  1.000000  0.462788\n",
      "2881.TW  0.462788  1.000000\n"
     ]
    },
    {
     "name": "stderr",
     "output_type": "stream",
     "text": [
      "\n"
     ]
    }
   ],
   "source": [
    "# 步驟1：資料蒐集\n",
    "# 下載台積電 (2330.TW) 和富邦金 (2881.TW) 從2020年1月1日到2023年1月1日的歷史股價資料\n",
    "data = yf.download(['2330.TW', '2881.TW'], start='2020-01-01', end='2023-01-01')\n",
    "\n",
    "# 計算日收益率\n",
    "returns = data['Adj Close'].pct_change()\n",
    "\n",
    "# 計算平均日收益率和日收益率標準差（波動率）\n",
    "mean_returns = returns.mean()\n",
    "print(\"平均日收益:\", mean_returns)\n",
    "\n",
    "std_dev_returns = returns.std()\n",
    "print(\"日收益率標準差:\", std_dev_returns)\n",
    "\n",
    "# 計算相關係數\n",
    "correlation = returns.corr()\n",
    "print(\"相關係數矩陣:\", correlation)"
   ]
  },
  {
   "cell_type": "code",
   "execution_count": 115,
   "metadata": {},
   "outputs": [
    {
     "name": "stdout",
     "output_type": "stream",
     "text": [
      "最優投資組合: {'2330.TW': 0.9718783311661204, '2881.TW': 0.028121668833879575}\n",
      "最優適應度: -2.7860581681261865\n"
     ]
    }
   ],
   "source": [
    "# 染色體表示和初始種群生成\n",
    "def initialize_population(num_portfolios, num_assets):\n",
    "    population = np.random.dirichlet(np.ones(num_assets), size=num_portfolios)\n",
    "    return population\n",
    "\n",
    "# 適應度函數（假設以夏普比率為適應度評估）\n",
    "def fitness(population, mean_returns, std_dev_returns, risk_free_rate=0.05):\n",
    "    portfolio_returns = np.dot(population, mean_returns)\n",
    "    portfolio_std_dev = np.sqrt(np.dot(population**2, std_dev_returns**2))\n",
    "    sharpe_ratio = (portfolio_returns - risk_free_rate) / portfolio_std_dev\n",
    "    return sharpe_ratio\n",
    "\n",
    "# 選擇\n",
    "def selection(population, fitness_scores):\n",
    "    probabilities = fitness_scores / fitness_scores.sum()\n",
    "    selected_indices = np.random.choice(np.arange(len(population)), size=len(population), p=probabilities)\n",
    "    selected_population = population[selected_indices]\n",
    "    return selected_population\n",
    "\n",
    "# 交叉\n",
    "def crossover(population, crossover_rate=0.6):\n",
    "    crossed_population = []\n",
    "    for i in range(0, len(population), 2):\n",
    "        if i + 1 < len(population) and np.random.rand() < crossover_rate:\n",
    "            cross_point = np.random.randint(1, len(population[i]))\n",
    "            new_individual1 = np.concatenate([population[i][:cross_point], population[i+1][cross_point:]])\n",
    "            new_individual2 = np.concatenate([population[i+1][:cross_point], population[i][cross_point:]])\n",
    "            crossed_population.extend([new_individual1, new_individual2])\n",
    "        else:\n",
    "            crossed_population.extend([population[i], population[i+1]])\n",
    "    return np.array(crossed_population)\n",
    "\n",
    "# 變異\n",
    "def mutation(population, mutation_rate=0.05):\n",
    "    mutated_population = []\n",
    "    for individual in population:\n",
    "        if np.random.rand() < mutation_rate:\n",
    "            mutation_point = np.random.randint(len(individual))\n",
    "            individual[mutation_point] = np.random.rand()\n",
    "            individual /= individual.sum()  # 重新正規化以保持總和為1\n",
    "        mutated_population.append(individual)\n",
    "    return np.array(mutated_population)\n",
    "\n",
    "# 執行基因演算法\n",
    "num_assets = 2\n",
    "num_portfolios = 100\n",
    "num_generations = 100\n",
    "\n",
    "# 初始化\n",
    "population = initialize_population(num_portfolios, num_assets)\n",
    "for _ in range(num_generations):\n",
    "    # 計算適應度\n",
    "    fitness_scores = fitness(population, mean_returns, std_dev_returns)\n",
    "    # 選擇\n",
    "    population = selection(population, fitness_scores)\n",
    "    # 交叉\n",
    "    population = crossover(population)\n",
    "    # 變異\n",
    "    population = mutation(population)\n",
    "\n",
    "# 計算最終適應度\n",
    "final_fitness_scores = fitness(population, mean_returns, std_dev_returns)\n",
    "best_portfolio_index = np.argmax(final_fitness_scores)\n",
    "best_portfolio = population[best_portfolio_index]\n",
    "print(\"最優投資組合:\", {(data.columns[i])[1]: best_portfolio[i] for i in range(num_assets)})\n",
    "print(\"最優適應度:\", final_fitness_scores[best_portfolio_index])\n"
   ]
  }
 ],
 "metadata": {
  "kernelspec": {
   "display_name": "base",
   "language": "python",
   "name": "python3"
  },
  "language_info": {
   "codemirror_mode": {
    "name": "ipython",
    "version": 3
   },
   "file_extension": ".py",
   "mimetype": "text/x-python",
   "name": "python",
   "nbconvert_exporter": "python",
   "pygments_lexer": "ipython3",
   "version": "3.12.2"
  }
 },
 "nbformat": 4,
 "nbformat_minor": 2
}
