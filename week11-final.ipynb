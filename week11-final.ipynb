{
 "cells": [
  {
   "cell_type": "code",
   "execution_count": 5,
   "metadata": {},
   "outputs": [
    {
     "name": "stdout",
     "output_type": "stream",
     "text": [
      "         Date  Predicted_Close\n",
      "0  2008-09-09        11293.779\n",
      "1  2008-09-10        11461.185\n",
      "2  2008-09-11        11392.132\n",
      "3  2008-09-12        11339.706\n",
      "4  2008-09-15        11423.463\n",
      "--------------------------------\n",
      "         Date  Weighted_sentiment_by_day\n",
      "0  2008-06-08                  89.328063\n",
      "1  2008-06-09                  97.628458\n",
      "2  2008-06-10                  97.628458\n",
      "3  2008-06-11                 100.000000\n",
      "4  2008-06-12                  96.837945\n"
     ]
    }
   ],
   "source": [
    "# LSTM 模型 與 新聞情緒模型： 晚期融合\n",
    "import pandas as pd\n",
    "\n",
    "# 1. 讀取兩個模型輸出結果\n",
    "stock_data = pd.read_csv(\"week11/predicted_prices_2008-09-09-2015-12-31.csv\")\n",
    "news_data = pd.read_csv(\"week11/daily_sentiment_score_2008-06-08-2016-07-01.csv\")\n",
    "\n",
    "stock_data = pd.DataFrame(stock_data)\n",
    "news_data = pd.DataFrame(news_data)\n",
    "\n",
    "print(stock_data.head())\n",
    "print(\"--------------------------------\")\n",
    "print(news_data.head())"
   ]
  },
  {
   "cell_type": "code",
   "execution_count": 6,
   "metadata": {},
   "outputs": [],
   "source": [
    "same_dates = stock_data['Date'].isin(news_data['Date']).index\n",
    "stock_data = stock_data.iloc[same_dates]\n",
    "news_data = news_data.iloc[same_dates]\n"
   ]
  },
  {
   "cell_type": "code",
   "execution_count": 7,
   "metadata": {},
   "outputs": [],
   "source": [
    "from sklearn.linear_model import LinearRegression\n",
    "import numpy as np\n",
    "\n",
    "# 晚期融合： 使用 情緒模型 調整 預測股價 (調整幅度不超過±5%)\n",
    "emotion_model = LinearRegression()\n",
    "emotion_model.fit(np.array(news_data['Weighted_sentiment_by_day']).reshape(-1, 1), np.array(stock_data['Predicted_Close']))\n",
    "\n",
    "# 使用情緒分數微調預測股價\n",
    "def apply_adjustment_limits(adjustments, limit=0.05):\n",
    "    return np.clip(adjustments, -limit, limit)\n",
    "\n",
    "adjustments = emotion_model.predict(np.array(news_data['Weighted_sentiment_by_day']).reshape(-1, 1))\n",
    "adjusted_stock_prices = np.array(stock_data['Predicted_Close']) + apply_adjustment_limits(adjustments)\n",
    "\n"
   ]
  },
  {
   "cell_type": "code",
   "execution_count": 8,
   "metadata": {},
   "outputs": [
    {
     "data": {
      "text/html": [
       "<div>\n",
       "<style scoped>\n",
       "    .dataframe tbody tr th:only-of-type {\n",
       "        vertical-align: middle;\n",
       "    }\n",
       "\n",
       "    .dataframe tbody tr th {\n",
       "        vertical-align: top;\n",
       "    }\n",
       "\n",
       "    .dataframe thead th {\n",
       "        text-align: right;\n",
       "    }\n",
       "</style>\n",
       "<table border=\"1\" class=\"dataframe\">\n",
       "  <thead>\n",
       "    <tr style=\"text-align: right;\">\n",
       "      <th></th>\n",
       "      <th>Date</th>\n",
       "      <th>Predicted_Close</th>\n",
       "      <th>Adjusted_Close</th>\n",
       "    </tr>\n",
       "  </thead>\n",
       "  <tbody>\n",
       "    <tr>\n",
       "      <th>0</th>\n",
       "      <td>2008-09-09</td>\n",
       "      <td>11293.779</td>\n",
       "      <td>11293.829</td>\n",
       "    </tr>\n",
       "    <tr>\n",
       "      <th>1</th>\n",
       "      <td>2008-09-10</td>\n",
       "      <td>11461.185</td>\n",
       "      <td>11461.235</td>\n",
       "    </tr>\n",
       "    <tr>\n",
       "      <th>2</th>\n",
       "      <td>2008-09-11</td>\n",
       "      <td>11392.132</td>\n",
       "      <td>11392.182</td>\n",
       "    </tr>\n",
       "    <tr>\n",
       "      <th>3</th>\n",
       "      <td>2008-09-12</td>\n",
       "      <td>11339.706</td>\n",
       "      <td>11339.756</td>\n",
       "    </tr>\n",
       "    <tr>\n",
       "      <th>4</th>\n",
       "      <td>2008-09-15</td>\n",
       "      <td>11423.463</td>\n",
       "      <td>11423.513</td>\n",
       "    </tr>\n",
       "  </tbody>\n",
       "</table>\n",
       "</div>"
      ],
      "text/plain": [
       "         Date  Predicted_Close  Adjusted_Close\n",
       "0  2008-09-09        11293.779       11293.829\n",
       "1  2008-09-10        11461.185       11461.235\n",
       "2  2008-09-11        11392.132       11392.182\n",
       "3  2008-09-12        11339.706       11339.756\n",
       "4  2008-09-15        11423.463       11423.513"
      ]
     },
     "execution_count": 8,
     "metadata": {},
     "output_type": "execute_result"
    }
   ],
   "source": [
    "adjusted_stock_prices = pd.DataFrame(adjusted_stock_prices, columns=['Adjusted_Close'])\n",
    "\n",
    "df = pd.concat([stock_data, adjusted_stock_prices], axis=1)\n",
    "df.head()\n"
   ]
  },
  {
   "cell_type": "code",
   "execution_count": 18,
   "metadata": {},
   "outputs": [
    {
     "name": "stdout",
     "output_type": "stream",
     "text": [
      "         Date  Final_Predicted_Price\n",
      "0  2008-09-09              11293.829\n",
      "1  2008-09-10              11461.235\n",
      "2  2008-09-11              11392.182\n",
      "3  2008-09-12              11339.756\n",
      "4  2008-09-15              11423.513\n"
     ]
    }
   ],
   "source": [
    "output = pd.DataFrame()\n",
    "output[\"Date\"] = df[\"Date\"]\n",
    "output[\"Final_Predicted_Price\"] = df[\"Adjusted_Close\"]\n",
    "\n",
    "# 存檔\n",
    "output.to_csv(f\"week11/final_stock_prices_{output['Date'].min()}-{output['Date'].max()}.csv\", index=False)\n",
    "\n",
    "\n",
    "print(output.head())"
   ]
  }
 ],
 "metadata": {
  "kernelspec": {
   "display_name": "base",
   "language": "python",
   "name": "python3"
  },
  "language_info": {
   "codemirror_mode": {
    "name": "ipython",
    "version": 3
   },
   "file_extension": ".py",
   "mimetype": "text/x-python",
   "name": "python",
   "nbconvert_exporter": "python",
   "pygments_lexer": "ipython3",
   "version": "3.12.2"
  }
 },
 "nbformat": 4,
 "nbformat_minor": 2
}
