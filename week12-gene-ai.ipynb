{
 "cells": [
  {
   "cell_type": "code",
   "execution_count": 6,
   "metadata": {},
   "outputs": [
    {
     "name": "stdout",
     "output_type": "stream",
     "text": [
      "{'revenue': 637.379349, 'net_income': 74.57946, 'pe_ratio': 10.8867, 'eps': 6.09, 'stock_price': 66.30000305175781, 'dividend_yield': 3.0165911130331}\n"
     ]
    },
    {
     "name": "stderr",
     "output_type": "stream",
     "text": [
      "/var/folders/0l/dmc60s_975jff_p_2_n34cq40000gq/T/ipykernel_92480/3440644423.py:17: FutureWarning: Series.__getitem__ treating keys as positions is deprecated. In a future version, integer keys will always be treated as labels (consistent with DataFrame behavior). To access a value by position, use `ser.iloc[pos]`\n",
      "  dividend_yield = dividends[-1] / stock.history(period=\"1d\")['Close'][-1] * 100\n",
      "/var/folders/0l/dmc60s_975jff_p_2_n34cq40000gq/T/ipykernel_92480/3440644423.py:17: FutureWarning: Series.__getitem__ treating keys as positions is deprecated. In a future version, integer keys will always be treated as labels (consistent with DataFrame behavior). To access a value by position, use `ser.iloc[pos]`\n",
      "  dividend_yield = dividends[-1] / stock.history(period=\"1d\")['Close'][-1] * 100\n",
      "/var/folders/0l/dmc60s_975jff_p_2_n34cq40000gq/T/ipykernel_92480/3440644423.py:28: FutureWarning: Series.__getitem__ treating keys as positions is deprecated. In a future version, integer keys will always be treated as labels (consistent with DataFrame behavior). To access a value by position, use `ser.iloc[pos]`\n",
      "  \"revenue\": financials.loc['Total Revenue'][-1] / 1e9,  # 轉換為億\n",
      "/var/folders/0l/dmc60s_975jff_p_2_n34cq40000gq/T/ipykernel_92480/3440644423.py:29: FutureWarning: Series.__getitem__ treating keys as positions is deprecated. In a future version, integer keys will always be treated as labels (consistent with DataFrame behavior). To access a value by position, use `ser.iloc[pos]`\n",
      "  \"net_income\": financials.loc['Net Income'][-1] / 1e9,  # 轉換為億\n",
      "/var/folders/0l/dmc60s_975jff_p_2_n34cq40000gq/T/ipykernel_92480/3440644423.py:32: FutureWarning: Series.__getitem__ treating keys as positions is deprecated. In a future version, integer keys will always be treated as labels (consistent with DataFrame behavior). To access a value by position, use `ser.iloc[pos]`\n",
      "  \"stock_price\": stock.history(period=\"1d\")['Close'][-1],\n"
     ]
    }
   ],
   "source": [
    "import yfinance as yf\n",
    "\n",
    "# 定義股票代號\n",
    "ticker = \"2882.TW\"\n",
    "\n",
    "# 獲取股票資訊\n",
    "stock = yf.Ticker(ticker)\n",
    "hist = stock.history(period=\"6mo\")\n",
    "\n",
    "# 獲取最近一年的財報數據\n",
    "financials = stock.financials\n",
    "balance_sheet = stock.balance_sheet\n",
    "cashflow = stock.cashflow\n",
    "\n",
    "# 獲取股息收益率\n",
    "dividends = stock.dividends\n",
    "dividend_yield = dividends[-1] / stock.history(period=\"1d\")['Close'][-1] * 100\n",
    "\n",
    "# 獲取每股盈餘 (EPS)\n",
    "eps = stock.info.get('trailingEps', 'N/A')\n",
    "\n",
    "# 獲取市盈率 (P/E Ratio)\n",
    "pe_ratio = stock.info.get('trailingPE', 'N/A')\n",
    "\n",
    "\n",
    "# 構建財務數據字典\n",
    "financial_data = {\n",
    "    \"revenue\": financials.loc['Total Revenue'][-1] / 1e9,  # 轉換為億\n",
    "    \"net_income\": financials.loc['Net Income'][-1] / 1e9,  # 轉換為億\n",
    "    \"pe_ratio\": pe_ratio,\n",
    "    \"eps\": eps,\n",
    "    \"stock_price\": stock.history(period=\"1d\")['Close'][-1],\n",
    "    \"dividend_yield\": dividend_yield,\n",
    "}\n",
    "\n",
    "print(financial_data)"
   ]
  },
  {
   "cell_type": "code",
   "execution_count": 7,
   "metadata": {},
   "outputs": [
    {
     "name": "stdout",
     "output_type": "stream",
     "text": [
      "{'engine': 'gpt-3.5-turbo-instruct', 'max_tokens': 500, 'temperature': 0.7, 'prompt': '\\n    我想要一份股票分析報告。以下是 2882.TW 的財務數據：\\n    收入: 637.379349 億美元\\n    淨利潤: 74.57946 億美元\\n    市盈率: 10.8867\\n    股價: 66.30000305175781 美元\\n    \\n    你是一位專業的投資經理人，請根據以上數據撰寫一份專業的股票分析報告，包含對該公司財務健康狀況的評論、未來增長的可能性，以及投資建議。\\n    '}\n"
     ]
    }
   ],
   "source": [
    "import openai\n",
    "import dotenv\n",
    "import os\n",
    "\n",
    "dotenv.load_dotenv()\n",
    "openai.api_key = os.getenv(\"OPENAI_API_KEY\")\n",
    "\n",
    "def generate_stock_analysis(ticker, financial_data):\n",
    "    \"\"\"\n",
    "    使用 OpenAI API 生成股票分析報告\n",
    "    :param ticker: 股票代碼\n",
    "    :param financial_data: 股票的關鍵財務數據（字典格式）\n",
    "    :return: 生成的分析報告\n",
    "    \"\"\"\n",
    "    prompt = f\"\"\"\n",
    "    我想要一份股票分析報告。以下是 {ticker} 的財務數據：\n",
    "    收入: {financial_data.get('revenue', 'N/A')} 億美元\n",
    "    淨利潤: {financial_data.get('net_income', 'N/A')} 億美元\n",
    "    市盈率: {financial_data.get('pe_ratio', 'N/A')}\n",
    "    股價: {financial_data.get('stock_price', 'N/A')} 美元\n",
    "    \n",
    "    你是一位專業的投資經理人，請根據以上數據撰寫一份專業的股票分析報告，包含對該公司財務健康狀況的評論、未來增長的可能性，以及投資建議。\n",
    "    \"\"\"\n",
    "\n",
    "    parameters = {\n",
    "        \"engine\": \"gpt-3.5-turbo-instruct\",  # 選擇適當的模型\n",
    "        \"max_tokens\": 500,\n",
    "        \"temperature\": 0.7,\n",
    "        \"prompt\": prompt\n",
    "    }\n",
    "\n",
    "    print(parameters)\n",
    "    \n",
    "    try:\n",
    "        response = openai.Completion.create(\n",
    "            **parameters\n",
    "        )\n",
    "        return response['choices'][0]['text'].strip()\n",
    "    except Exception as e:\n",
    "        return f\"生成失敗: {e}\"\n",
    "\n",
    "# 測試範例數據\n",
    "sample_data = financial_data\n",
    "\n",
    "analysis_report = generate_stock_analysis(ticker, sample_data)\n"
   ]
  },
  {
   "cell_type": "code",
   "execution_count": 8,
   "metadata": {},
   "outputs": [
    {
     "name": "stdout",
     "output_type": "stream",
     "text": [
      "報告已成功匯出到 week12/stock_analysis.md\n"
     ]
    }
   ],
   "source": [
    "def export_to_markdown(ticker, analysis_report, output_file=\"stock_analysis.md\"):\n",
    "    \"\"\"\n",
    "    將分析報告匯出為 Markdown 文件\n",
    "    \"\"\"\n",
    "    with open(output_file, \"w\", encoding=\"utf-8\") as file:\n",
    "        # HackMD 格式化內容\n",
    "        file.write(f\"# {ticker} 股票分析報告\\n\\n\")\n",
    "        file.write(\"## 摘要\\n\")\n",
    "        file.write(\"以下是基於公司財務數據的專業分析報告。\\n\\n\")\n",
    "        file.write(\"## 詳細報告\\n\")\n",
    "        file.write(analysis_report)\n",
    "    print(f\"報告已成功匯出到 {output_file}\")\n",
    "\n",
    "\n",
    "export_to_markdown(ticker,analysis_report, \"week12/stock_analysis.md\")"
   ]
  }
 ],
 "metadata": {
  "kernelspec": {
   "display_name": "base",
   "language": "python",
   "name": "python3"
  },
  "language_info": {
   "codemirror_mode": {
    "name": "ipython",
    "version": 3
   },
   "file_extension": ".py",
   "mimetype": "text/x-python",
   "name": "python",
   "nbconvert_exporter": "python",
   "pygments_lexer": "ipython3",
   "version": "3.12.2"
  }
 },
 "nbformat": 4,
 "nbformat_minor": 2
}
